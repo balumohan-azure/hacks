{
 "cells": [
  {
   "cell_type": "code",
   "execution_count": null,
   "metadata": {},
   "outputs": [],
   "source": [
    "pip install requests beautifulsoup4 js2py\n"
   ]
  },
  {
   "cell_type": "code",
   "execution_count": null,
   "metadata": {},
   "outputs": [],
   "source": [
    "import requests\n",
    "from bs4 import BeautifulSoup\n",
    "import js2py\n",
    "\n",
    "def get_html_content(url):\n",
    "    response = requests.get(url)\n",
    "    return response.text\n",
    "\n",
    "def extract_javascript(html_content):\n",
    "    soup = BeautifulSoup(html_content, 'html.parser')\n",
    "    scripts = soup.find_all('script')\n",
    "    js_code = \"\"\n",
    "    for script in scripts:\n",
    "        if script.string:\n",
    "            js_code += script.string + \"\\n\"\n",
    "    return js_code\n",
    "\n",
    "def parse_js_to_ast(js_code):\n",
    "    esprima = js2py.require('esprima')\n",
    "    try:\n",
    "        return esprima.parse(js_code)\n",
    "    except Exception as e:\n",
    "        print(\"Error parsing JavaScript code:\", e)\n",
    "        print(\"JavaScript code causing the error:\\n\", js_code)\n",
    "        return None\n",
    "\n",
    "# URL of the website\n",
    "url = \"https://www.hdfcbank.com/\"\n",
    "\n",
    "# Get HTML content of the website\n",
    "html_content = get_html_content(url)\n",
    "\n",
    "# Extract JavaScript code from the HTML\n",
    "js_code = extract_javascript(html_content)\n",
    "\n",
    "# Print the extracted JavaScript code for debugging\n",
    "print(\"Extracted JavaScript code:\\n\", js_code)\n",
    "\n",
    "# Parse JavaScript code to AST\n",
    "js_ast = parse_js_to_ast(js_code)\n",
    "\n",
    "# Print the AST if parsing was successful\n",
    "if js_ast:\n",
    "    print(js_ast)\n"
   ]
  }
 ],
 "metadata": {
  "kernelspec": {
   "display_name": ".venv",
   "language": "python",
   "name": "python3"
  },
  "language_info": {
   "codemirror_mode": {
    "name": "ipython",
    "version": 3
   },
   "file_extension": ".py",
   "mimetype": "text/x-python",
   "name": "python",
   "nbconvert_exporter": "python",
   "pygments_lexer": "ipython3",
   "version": "3.9.6"
  }
 },
 "nbformat": 4,
 "nbformat_minor": 2
}
